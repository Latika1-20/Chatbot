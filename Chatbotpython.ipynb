{
  "cells": [
    {
      "cell_type": "markdown",
      "metadata": {
        "id": "ykmquiZQjY5F"
      },
      "source": []
    },
    {
      "cell_type": "code",
      "execution_count": null,
      "metadata": {
        "id": "EafBtz_94Y6P"
      },
      "outputs": [],
      "source": [
        "import numpy as np\n",
        "import string\n",
        "import random\n",
        "import nltk"
      ]
    },
    {
      "cell_type": "markdown",
      "metadata": {
        "id": "V8qhLGSVRbTi"
      },
      "source": [
        "Importing and reading the corpus"
      ]
    },
    {
      "cell_type": "code",
      "execution_count": null,
      "metadata": {
        "colab": {
          "base_uri": "https://localhost:8080/"
        },
        "id": "c0m2sakHRMfL",
        "outputId": "b83352e6-8aee-447f-8a96-ce21d276061a"
      },
      "outputs": [
        {
          "name": "stderr",
          "output_type": "stream",
          "text": [
            "[nltk_data] Downloading package punkt to /root/nltk_data...\n",
            "[nltk_data]   Package punkt is already up-to-date!\n",
            "[nltk_data] Downloading package wordnet to /root/nltk_data...\n",
            "[nltk_data]   Package wordnet is already up-to-date!\n"
          ]
        }
      ],
      "source": [
        "import nltk\n",
        "f=open('chatbot.txt', 'r',errors = 'ignore')\n",
        "raw_docs=f.read()\n",
        "raw_doc = raw_docs.lower() # converts text to lowercase\n",
        "nltk.download('punkt')\n",
        "nltk.download('wordnet')\n",
        "from nltk.tokenize import sent_tokenize, word_tokenize\n",
        "sent_tokens = nltk.semt_tokenize(raw_doc)\n",
        "word_tokens = nltk.word_tokenize(raw_doc)"
      ]
    },
    {
      "cell_type": "markdown",
      "metadata": {
        "id": "_eVT6WERStuC"
      },
      "source": [
        "Example of sentance tokens"
      ]
    },
    {
      "cell_type": "code",
      "execution_count": null,
      "metadata": {
        "colab": {
          "base_uri": "https://localhost:8080/"
        },
        "id": "R3cjON4EW2js",
        "outputId": "5b8180c6-4796-4be4-decb-55d07b55cb33"
      },
      "outputs": [
        {
          "name": "stdout",
          "output_type": "stream",
          "text": [
            "['data science is an interdisciplinary academic field[1] that uses statistics, scientific computing, scientific methods, processes, scientific visualization, algorithms and systems to extract or extrapolate knowledge and insights from potentially noisy, structured, or unstructured data.', '[2]\\n\\ndata science also integrates domain knowledge from the underlying application domain (e.g., natural sciences, information technology, and medicine).']\n"
          ]
        }
      ],
      "source": [
        "from nltk.tokenize import sent_tokenize, wordpunct_tokenize\n",
        "sent_tokens = sent_tokenize(raw_doc)\n",
        "print(sent_tokens[:2])"
      ]
    },
    {
      "cell_type": "markdown",
      "metadata": {
        "id": "U68xV2N3XzwB"
      },
      "source": [
        "example of word tokens"
      ]
    },
    {
      "cell_type": "code",
      "execution_count": null,
      "metadata": {
        "colab": {
          "base_uri": "https://localhost:8080/"
        },
        "id": "sWiZoxEiXzai",
        "outputId": "af2e9b9a-bf22-411c-87e4-c4cfc2a3ca9b"
      },
      "outputs": [
        {
          "data": {
            "text/plain": [
              "['data', 'science']"
            ]
          },
          "execution_count": 27,
          "metadata": {},
          "output_type": "execute_result"
        }
      ],
      "source": [
        "word_tokens[:2]"
      ]
    },
    {
      "cell_type": "markdown",
      "metadata": {
        "id": "jU93OrLAZSBj"
      },
      "source": [
        "Text processing"
      ]
    },
    {
      "cell_type": "code",
      "execution_count": null,
      "metadata": {
        "id": "FzgdmU7YZiMb"
      },
      "outputs": [],
      "source": [
        "lemnar = nltk.stem.WordNetLemmatizer()\n",
        "def LemTokens(tokens):\n",
        "  return [lemnar.lemmatize(token) for token in tokens]\n",
        "remove_punct_dict = dict((ord(punct),None) for punct in string.punctuation)\n",
        "def LemNormalize(text):\n",
        "  return LemTokens(nltk.word_tokenize(text.lower().translate(remove_punct_dict)))"
      ]
    },
    {
      "cell_type": "markdown",
      "metadata": {
        "id": "WSSao5T0aqlc"
      },
      "source": [
        "Defining the greeting function"
      ]
    },
    {
      "cell_type": "code",
      "execution_count": null,
      "metadata": {
        "id": "ki1qgGWiauFm"
      },
      "outputs": [],
      "source": [
        "GREET_INPUTS = (\"hello\",\"hi\",\"greetings\",\"sup\",\"what's up\",\"hey\")\n",
        "GREET_RESPONSES = [\"hi\",\"hey\",\"nod\",\"I am glad! You are talking to me\"]\n",
        "def greet(sentence):\n",
        "\n",
        "  for word in sentence.spilt():\n",
        "    if word.lower() in GREET_INPUTS:\n",
        "      return random.choice(GREET_RESPONSES)"
      ]
    },
    {
      "cell_type": "markdown",
      "metadata": {
        "id": "yKET2S-8bpgy"
      },
      "source": [
        "Response generation"
      ]
    },
    {
      "cell_type": "code",
      "execution_count": null,
      "metadata": {
        "id": "fjqKTeAtbviK"
      },
      "outputs": [],
      "source": [
        "from sklearn.feature_extraction.text import TfidfVectorizer\n",
        "from sklearn.metrics.pairwise import cosine_similarity"
      ]
    },
    {
      "cell_type": "code",
      "execution_count": null,
      "metadata": {
        "id": "aYOizqOHgytj"
      },
      "outputs": [],
      "source": [
        "def greet(sentence):\n",
        "   if \"hello\" in sentence:\n",
        "    return \"Hello there!\"\n",
        "   elif \"hi\" in sentence:\n",
        "     return \"Hi!\"\n",
        "   else:\n",
        "    return None"
      ]
    },
    {
      "cell_type": "code",
      "execution_count": null,
      "metadata": {
        "id": "1SghazficDKD"
      },
      "outputs": [],
      "source": [
        "def response(user_response):\n",
        "  robo1_response*''\n",
        "  TfidfVec = TfidfVectorizer(tokenizer=LemNormalize, stop_words='english')\n",
        "  tfidf = TfidfVectorizer.fit_transform(sent_tokens)\n",
        "  vals = cosine_similarity(tfidf[-1],tfidf)\n",
        "  idx = vals.argsort()[0][-2]\n",
        "  flat = vals.flatten()\n",
        "  flat.sort()\n",
        "  req_tfidf = flat[-2]\n",
        "  if req_tfidf == 0:\n",
        "    robo1_response = robo1_response + \"I am sorry! I don't understand you\"\n",
        "    return robo1_response\n",
        "  else:\n",
        "    robo1_response = robo1_response+sent_tokens[idx]\n",
        "    return robo1_response\n"
      ]
    },
    {
      "cell_type": "markdown",
      "metadata": {
        "id": "Vwln7QANdrvv"
      },
      "source": [
        "Defining conversation start/end protocols"
      ]
    },
    {
      "cell_type": "code",
      "execution_count": null,
      "metadata": {
        "colab": {
          "background_save": true,
          "base_uri": "https://localhost:8080/"
        },
        "id": "gXSPjAcpdyHH",
        "outputId": "0bc4ff66-2705-4970-991e-643b84dfe3ad"
      },
      "outputs": [
        {
          "name": "stdout",
          "output_type": "stream",
          "text": [
            "Bot: My name is Robo. Let's have a conversation! Also, if you want to exit any time, just type Bye!\n",
            "Bot:Hello there!\n",
            "Bot:I am doing good! How about you!\n",
            "Bot: Goodbye! Take care \n"
          ]
        }
      ],
      "source": [
        "flags=True\n",
        "print(\"Bot: My name is Robo. Let's have a conversation! Also, if you want to exit any time, just type Bye!\")\n",
        "def greet(sentence):\n",
        "   if \"hello\" in sentence:\n",
        "    return \"Hello there!\"\n",
        "   elif \"hi\" in sentence:\n",
        "     return \"Hi!\"\n",
        "   elif \"how are you\" in sentence:\n",
        "     return  \"I am doing good! How about you!\"\n",
        "   elif \"I am fine glad to know\" in sentence:\n",
        "      return \"Glad to hear that!\"\n",
        "   else:\n",
        "      return None\n",
        "\n",
        "\n",
        "def response(user_response):\n",
        "  robo1_response*''\n",
        "  TfidfVec = TfidfVectorizer(tokenizer=LemNormalize, stop_words='english')\n",
        "  tfidf = TfidfVectorizer.fit_transform(sent_tokens)\n",
        "  vals = cosine_similarity(tfidf[-1],tfidf)\n",
        "  idx = vals.argsort()[0][-2]\n",
        "  flat = vals.flatten()\n",
        "  flat.sort()\n",
        "  req_tfidf = flat[-2]\n",
        "  if req_tfidf == 0:\n",
        "    robo1_response = robo1_response + \"I am sorry! I don't understand you\"\n",
        "    return robo1_response\n",
        "  else:\n",
        "    robo1_response = robo1_response+sent_tokens[idx]\n",
        "    return robo1_response\n",
        "\n",
        "\n",
        "while(flags==True):\n",
        "  user_response = input()\n",
        "  user_response=user_response.lower()\n",
        "  if(user_response!='bye'):\n",
        "    if(user_response=='thanks or thank you'):\n",
        "      flags=False\n",
        "      print(\"Bot: You are welcome...\")\n",
        "    else:\n",
        "        if(greet(user_response)!=None):\n",
        "          print(\"Bot:\"+greet(user_response))\n",
        "        else:\n",
        "          sent_tokens.append(user_response)\n",
        "          word_tokens=word_tokens+nltk.word_tokenize(user_response)\n",
        "          final_words=list(set(word_tokens))\n",
        "          print(\"Bot:\",end=\"\")\n",
        "          print(response(user_response))\n",
        "          sent_tokens.remove(user_response)\n",
        "  else:\n",
        "    flag=False\n",
        "    print(\"Bot: Goodbye! Take care \")\n"
      ]
    }
  ],
  "metadata": {
    "colab": {
      "provenance": []
    },
    "kernelspec": {
      "display_name": "Python 3",
      "name": "python3"
    },
    "language_info": {
      "name": "python"
    }
  },
  "nbformat": 4,
  "nbformat_minor": 0
}